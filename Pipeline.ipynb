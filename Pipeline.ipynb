{
 "cells": [
  {
   "cell_type": "code",
   "execution_count": 56,
   "metadata": {},
   "outputs": [],
   "source": [
    "#import nessesary packages\n",
    "from sklearn.feature_extraction.text import CountVectorizer\n",
    "from sklearn.svm import SVC\n",
    "from sklearn.model_selection import GridSearchCV\n",
    "from sklearn.pipeline import Pipeline\n",
    "from sklearn.model_selection import train_test_split\n",
    "from sklearn.metrics import accuracy_score, precision_score, recall_score, jaccard_score, f1_score, log_loss\n",
    "from sklearn.metrics import classification_report, confusion_matrix\n",
    "from sklearn.metrics import plot_confusion_matrix as pcm\n",
    "from sklearn.metrics import roc_curve, roc_auc_score, plot_roc_curve, auc\n",
    "import pandas as pd\n",
    "import numpy as np\n",
    "import json"
   ]
  },
  {
   "cell_type": "code",
   "execution_count": 57,
   "metadata": {},
   "outputs": [
    {
     "data": {
      "text/html": [
       "<div>\n",
       "<style scoped>\n",
       "    .dataframe tbody tr th:only-of-type {\n",
       "        vertical-align: middle;\n",
       "    }\n",
       "\n",
       "    .dataframe tbody tr th {\n",
       "        vertical-align: top;\n",
       "    }\n",
       "\n",
       "    .dataframe thead th {\n",
       "        text-align: right;\n",
       "    }\n",
       "</style>\n",
       "<table border=\"1\" class=\"dataframe\">\n",
       "  <thead>\n",
       "    <tr style=\"text-align: right;\">\n",
       "      <th></th>\n",
       "      <th>star</th>\n",
       "      <th>review</th>\n",
       "      <th>unsatisfied</th>\n",
       "    </tr>\n",
       "  </thead>\n",
       "  <tbody>\n",
       "    <tr>\n",
       "      <th>0</th>\n",
       "      <td>1 star: Bad</td>\n",
       "      <td>my partner buy 4 shirt for me believe it be a ...</td>\n",
       "      <td>1</td>\n",
       "    </tr>\n",
       "    <tr>\n",
       "      <th>1</th>\n",
       "      <td>1 star: Bad</td>\n",
       "      <td>i order a skirt in april this year and return ...</td>\n",
       "      <td>1</td>\n",
       "    </tr>\n",
       "    <tr>\n",
       "      <th>10</th>\n",
       "      <td>1 star: Bad</td>\n",
       "      <td>clothe be cheap look and smell look nothing li...</td>\n",
       "      <td>1</td>\n",
       "    </tr>\n",
       "    <tr>\n",
       "      <th>100</th>\n",
       "      <td>5 stars: Excellent</td>\n",
       "      <td>the fit be right the material be excellent and...</td>\n",
       "      <td>0</td>\n",
       "    </tr>\n",
       "    <tr>\n",
       "      <th>1000</th>\n",
       "      <td>5 stars: Excellent</td>\n",
       "      <td>i thoroughly enjoy this item i buy the fluffy ...</td>\n",
       "      <td>0</td>\n",
       "    </tr>\n",
       "  </tbody>\n",
       "</table>\n",
       "</div>"
      ],
      "text/plain": [
       "                    star                                             review  \\\n",
       "0            1 star: Bad  my partner buy 4 shirt for me believe it be a ...   \n",
       "1            1 star: Bad  i order a skirt in april this year and return ...   \n",
       "10           1 star: Bad  clothe be cheap look and smell look nothing li...   \n",
       "100   5 stars: Excellent  the fit be right the material be excellent and...   \n",
       "1000  5 stars: Excellent  i thoroughly enjoy this item i buy the fluffy ...   \n",
       "\n",
       "      unsatisfied  \n",
       "0               1  \n",
       "1               1  \n",
       "10              1  \n",
       "100             0  \n",
       "1000            0  "
      ]
     },
     "execution_count": 57,
     "metadata": {},
     "output_type": "execute_result"
    }
   ],
   "source": [
    "#load data\n",
    "data = pd.read_json('clothingreviewdata_cleaned.json')\n",
    "data.head()"
   ]
  },
  {
   "cell_type": "code",
   "execution_count": 94,
   "metadata": {},
   "outputs": [
    {
     "name": "stdout",
     "output_type": "stream",
     "text": [
      "Train set: (5061,) (5061,)\n",
      "Test set: (1688,) (1688,)\n"
     ]
    }
   ],
   "source": [
    "#create train-test split in data set\n",
    "X_train, X_test, y_train, y_test = train_test_split(data['review'], data['unsatisfied'], test_size=0.25, random_state=0)\n",
    "\n",
    "print ('Train set:', X_train.shape,  y_train.shape)\n",
    "print ('Test set:', X_test.shape,  y_test.shape)"
   ]
  },
  {
   "cell_type": "code",
   "execution_count": 72,
   "metadata": {},
   "outputs": [],
   "source": [
    "#create pipeline with Count Vectorization and SVM model fit\n",
    "objects = [(\"cv\", CountVectorizer(stop_words='english', min_df=10)), \n",
    "           (\"svm\", SVC(probability=True))]\n",
    "pipe = Pipeline(objects)"
   ]
  },
  {
   "cell_type": "code",
   "execution_count": 73,
   "metadata": {},
   "outputs": [],
   "source": [
    "#define parameters (takes an ungodly amount of time to run through all of these parameters)\n",
    "params = {'cv__ngram_range': ((1, 1), (1, 2), (1,3)), \n",
    "          'cv__max_df': (500, 1000, 2000, 5000),\n",
    "          'svm__kernel': ('linear', 'sigmoid', 'poly', 'rbf'),\n",
    "          'svm__C': (0.25, 0.75, 1, 1.5, 2),\n",
    "          'svm__gamma': ('scale', 'auto')}\n",
    "\n",
    "#create model with set pipeline and parameters; cross-validates in 4 folds \n",
    "grid_search = GridSearchCV(pipe, param_grid=params, n_jobs=-1, cv=4, refit=True)"
   ]
  },
  {
   "cell_type": "code",
   "execution_count": 74,
   "metadata": {},
   "outputs": [
    {
     "data": {
      "text/plain": [
       "GridSearchCV(cv=4,\n",
       "             estimator=Pipeline(steps=[('cv',\n",
       "                                        CountVectorizer(min_df=10,\n",
       "                                                        stop_words='english')),\n",
       "                                       ('svm', SVC(probability=True))]),\n",
       "             n_jobs=-1,\n",
       "             param_grid={'cv__max_df': (500, 1000, 2000, 5000),\n",
       "                         'cv__ngram_range': ((1, 1), (1, 2), (1, 3)),\n",
       "                         'svm__C': (0.25, 0.75, 1, 1.5, 2),\n",
       "                         'svm__gamma': ('scale', 'auto'),\n",
       "                         'svm__kernel': ('linear', 'sigmoid', 'poly', 'rbf')})"
      ]
     },
     "execution_count": 74,
     "metadata": {},
     "output_type": "execute_result"
    }
   ],
   "source": [
    "#fit model of train data\n",
    "grid_search.fit(X_train, y_train)"
   ]
  },
  {
   "cell_type": "code",
   "execution_count": 88,
   "metadata": {},
   "outputs": [
    {
     "name": "stdout",
     "output_type": "stream",
     "text": [
      "('cv__max_df', 1000)\n",
      "('cv__ngram_range', (1, 3))\n",
      "('svm__C', 0.25)\n",
      "('svm__gamma', 'scale')\n",
      "('svm__kernel', 'linear')\n",
      "('cv', CountVectorizer(max_df=1000, min_df=10, ngram_range=(1, 3),\n",
      "                stop_words='english'))\n",
      "('svm', SVC(C=0.25, kernel='linear', probability=True))\n"
     ]
    }
   ],
   "source": [
    "#print out best parameters \n",
    "for param in grid_search.best_params_.items():\n",
    "    print(param)\n",
    "    \n",
    "for step in grid_search.best_estimator_.steps:\n",
    "    print(step)"
   ]
  },
  {
   "cell_type": "code",
   "execution_count": 89,
   "metadata": {},
   "outputs": [
    {
     "name": "stdout",
     "output_type": "stream",
     "text": [
      "Best Estimator Score: 0.9723374794722415\n"
     ]
    }
   ],
   "source": [
    "#get best estimator score\n",
    "print('Best Estimator Score:', grid_search.best_score_)"
   ]
  },
  {
   "cell_type": "code",
   "execution_count": 95,
   "metadata": {},
   "outputs": [],
   "source": [
    "#get predictions and estimated probabilities for SVM model \n",
    "gridbest_predictions = grid_search.predict(X_test)\n",
    "gridbest_prob = grid_search.predict_proba(X_test)"
   ]
  },
  {
   "cell_type": "code",
   "execution_count": 98,
   "metadata": {},
   "outputs": [
    {
     "name": "stdout",
     "output_type": "stream",
     "text": [
      "                 precision    recall  f1-score   support\n",
      "\n",
      "  Satisfied (0)     0.9780    0.9735    0.9757      1095\n",
      "Unsatisfied (1)     0.9515    0.9595    0.9555       593\n",
      "\n",
      "       accuracy                         0.9686      1688\n",
      "      macro avg     0.9647    0.9665    0.9656      1688\n",
      "   weighted avg     0.9687    0.9686    0.9686      1688\n",
      "\n",
      "Best Estimator Score: 0.9723374794722415\n"
     ]
    },
    {
     "data": {
      "image/png": "[encoded data removed]",
      "text/plain": [
       "<Figure size 432x288 with 2 Axes>"
      ]
     },
     "metadata": {
      "needs_background": "light"
     },
     "output_type": "display_data"
    },
    {
     "data": {
      "image/png": "[encoded data removed]",
      "text/plain": [
       "<Figure size 432x288 with 1 Axes>"
      ]
     },
     "metadata": {
      "needs_background": "light"
     },
     "output_type": "display_data"
    }
   ],
   "source": [
    "#create classification report\n",
    "print (classification_report(y_test, gridbest_predictions, labels=[0, 1], target_names=['Satisfied (0)', \"Unsatisfied (1)\"], digits=4))\n",
    "#create confusion matrix\n",
    "display = pcm(grid_search, X_test, y_test, display_labels=['Satisfied (0)', \"Unsatisfied (1)\"], cmap='BuPu')\n",
    "display.ax_.set_title('Confusion Matrix for Best Parameters of SVM Classifier')\n",
    "\n",
    "#create ROC plot\n",
    "plt = plot_roc_curve(grid_search, X_test, y_test, color=\"purple\")  \n",
    "plt.ax_.set_title('Best Parameters of SVM Classifier ROC Curve')\n",
    "plt.ax_.set_xlabel('False Positive Rate (1-Specificity)')\n",
    "plt.ax_.set_ylabel('True Positive Rate (Sensitivity)')\n",
    "\n",
    "#print out other best classifier evaluation scores \n",
    "print('Best Estimator Score:', grid_search.best_score_)"
   ]
  },
  {
   "cell_type": "code",
   "execution_count": 79,
   "metadata": {},
   "outputs": [
    {
     "name": "stdout",
     "output_type": "stream",
     "text": [
      "Classification: [0]\n",
      "Certainty:  [[0.98993668 0.01006332]]\n"
     ]
    }
   ],
   "source": [
    "#classify additional created data\n",
    "print('Classification:', grid_search.predict(['i cannot believe how affordable and gorgeous these clothes are i would highly recommend zaful to anyone looking to update their wardrobe on a budget']))\n",
    "print('Certainty: ', grid_search.predict_proba(['i cannot believe how affordable and gorgeous these clothes are i would highly recommend zaful to anyone looking to update their wardrobe on a budget']))"
   ]
  },
  {
   "cell_type": "code",
   "execution_count": 80,
   "metadata": {},
   "outputs": [
    {
     "name": "stdout",
     "output_type": "stream",
     "text": [
      "Classification:  [1]\n",
      "Certainty:  [[0.19293785 0.80706215]]\n"
     ]
    }
   ],
   "source": [
    "print('Classification: ', grid_search.predict(['never buy from zaful the clothing is very affordable but the quality is also trash i ordered 3 items from zaful and they all have some kind of fit issue or damage when i asked customer service about getting a refund for the items that were damaged upon arrival they were very rude and unhelpful i am still fighing them for the refund awful company']))\n",
    "print('Certainty: ', grid_search.predict_proba(['never buy from zaful the clothing is very affordable but the quality is also trash i ordered 3 items from zaful and they all have some kind of fit issue or damage when i asked customer service about getting a refund for the items that were damaged upon arrival they were very rude and unhelpful i am still fighing them for the refund awful company']))"
   ]
  },
  {
   "cell_type": "code",
   "execution_count": 81,
   "metadata": {},
   "outputs": [
    {
     "name": "stdout",
     "output_type": "stream",
     "text": [
      "Classification:  [0]\n",
      "Certainty:  [[9.99688352e-01 3.11648155e-04]]\n"
     ]
    }
   ],
   "source": [
    "print('Classification: ', grid_search.predict(['zaful has a great selection of clothes for people of all tastes and styles my sister and i can both shop here even though we have completely different senese of fashion we both get super excited every time we recieve their clothes because it has almost always exceeded our expectations delivery can be a little slow and unreliable, but their affordable clothes are definitely worth the wait'])) \n",
    "print('Certainty: ', grid_search.predict_proba(['zaful has a great selection of clothes for people of all tastes and styles my sister and i can both shop here even though we have completely different senese of fashion we both get super excited every time we recieve their clothes because it has almost always exceeded our expectations delivery can be a little slow and unreliable, but their affordable clothes are definitely worth the wait'])) "
   ]
  },
  {
   "cell_type": "code",
   "execution_count": null,
   "metadata": {},
   "outputs": [],
   "source": []
  }
 ],
 "metadata": {
  "kernelspec": {
   "display_name": "Python 3",
   "language": "python",
   "name": "python3"
  },
  "language_info": {
   "codemirror_mode": {
    "name": "ipython",
    "version": 3
   },
   "file_extension": ".py",
   "mimetype": "text/x-python",
   "name": "python",
   "nbconvert_exporter": "python",
   "pygments_lexer": "ipython3",
   "version": "3.7.1"
  }
 },
 "nbformat": 4,
 "nbformat_minor": 4
}

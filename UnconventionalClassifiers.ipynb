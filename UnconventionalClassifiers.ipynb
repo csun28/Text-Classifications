{
 "cells": [
  {
   "cell_type": "code",
   "execution_count": 30,
   "metadata": {},
   "outputs": [
    {
     "name": "stderr",
     "output_type": "stream",
     "text": [
      "[nltk_data] Downloading package stopwords to /home/jovyan/nltk_data...\n",
      "[nltk_data]   Unzipping corpora/stopwords.zip.\n"
     ]
    }
   ],
   "source": [
    "#import nessesary packages \n",
    "import pandas as pd\n",
    "import numpy as np\n",
    "import string\n",
    "import nltk\n",
    "nltk.download('stopwords')\n",
    "import contractions\n",
    "from spellchecker import SpellChecker\n",
    "from vaderSentiment.vaderSentiment import SentimentIntensityAnalyzer\n",
    "from afinn import Afinn\n",
    "import keras\n",
    "from keras.preprocessing.sequence import pad_sequences\n",
    "from keras.preprocessing.text import Tokenizer\n",
    "from keras.layers import Dense, LSTM, Dropout, Embedding\n",
    "from keras.models import Sequential\n",
    "from sklearn.metrics import accuracy_score, precision_score, recall_score, jaccard_score, log_loss\n",
    "from sklearn.metrics import classification_report, confusion_matrix, ConfusionMatrixDisplay\n",
    "from sklearn.metrics import plot_confusion_matrix as pcm\n",
    "from sklearn.metrics import roc_curve, roc_auc_score\n",
    "from sklearn.model_selection import train_test_split\n",
    "import matplotlib\n",
    "import matplotlib.pyplot as plt"
   ]
  },
  {
   "cell_type": "code",
   "execution_count": 23,
   "metadata": {},
   "outputs": [],
   "source": [
    "#set panda settings to display all data untruncated \n",
    "pd.set_option('display.max_colwidth', -1)"
   ]
  },
  {
   "cell_type": "code",
   "execution_count": 24,
   "metadata": {},
   "outputs": [
    {
     "data": {
      "text/html": [
       "<div>\n",
       "<style scoped>\n",
       "    .dataframe tbody tr th:only-of-type {\n",
       "        vertical-align: middle;\n",
       "    }\n",
       "\n",
       "    .dataframe tbody tr th {\n",
       "        vertical-align: top;\n",
       "    }\n",
       "\n",
       "    .dataframe thead th {\n",
       "        text-align: right;\n",
       "    }\n",
       "</style>\n",
       "<table border=\"1\" class=\"dataframe\">\n",
       "  <thead>\n",
       "    <tr style=\"text-align: right;\">\n",
       "      <th></th>\n",
       "      <th>review</th>\n",
       "      <th>star</th>\n",
       "      <th>title</th>\n",
       "    </tr>\n",
       "  </thead>\n",
       "  <tbody>\n",
       "    <tr>\n",
       "      <th>3042</th>\n",
       "      <td>[\\n                Overall, the quality has improved from the past. Additionally the Customer Service is great and they will respond fast. Great for cute, trendy clothes! They have really cute bikinis, dresses, sunglasses and tops. Additionally, the prices are great for someone on a budget. The shipping can be a bit slow at times (depending on how much you order), but everything else is great!\\n            ]</td>\n",
       "      <td>5 stars: Excellent</td>\n",
       "      <td>Great</td>\n",
       "    </tr>\n",
       "    <tr>\n",
       "      <th>3043</th>\n",
       "      <td>[\\n                As an update. I purchased numerous bathing suits at in middle of January. 15 email to Zaful with order number and item number for return label. No return label ever sent 3 weeks into February. The bathing suit was not attractive. They reply over and over that I should have looked at sizing. The bathing suit fit it was just unholy thin and cheap looking. They do not send return label just endless reply statements w no return label.  Lost my business forever\\n            ]</td>\n",
       "      <td>1 star: Bad</td>\n",
       "      <td>As an update</td>\n",
       "    </tr>\n",
       "    <tr>\n",
       "      <th>3044</th>\n",
       "      <td>[\\n                My son wanted a sweatshirt from ZAFUL.  I ordered the sweatshirt on December 31st. It showed it was in stock and available. I also decided to order a different sweatshirt for myself.  I received my sweatshirt in about two weeks. I normally wear size S but ordered a large because i wanted it roomy to layer. Well...the L was way too small and now it has a rip in it. , As of Feb 16th I was still waiting for my son’s sweatshirt. It was on backorder at the time I got mine.  I did the chat in the beginning of feb and they said I couldn’t get my money back, only an exchange or points?  They also implied that I ordered it when it said they were out of stock....ummm? No. Why would I do that? Anyway, They said it should be delivered around the 14th if I wanted to wait. I waited then contacted again and again they said I couldn’t get a refund. I finally messaged them a couple of days ago on FB and told them to refund my money and they finally did it.  What a mess. I don’t want to go through that hassle again.\\n            ]</td>\n",
       "      <td>1 star: Bad</td>\n",
       "      <td>My son wanted a sweatshirt from ZAFUL</td>\n",
       "    </tr>\n",
       "    <tr>\n",
       "      <th>3045</th>\n",
       "      <td>[\\n                The first time I came across a Zaful page I immediately didn't trust the sight until I started seeing my friends order from them. I live in South Africa so I was skeptical at first... until I ordered bikinis taking a chance. I placed an order on a Tuesday and received it the following monday! i was so impressed. The bikini qualities were soooo good and I wore the one I bought this past weekend and it looked great! Best shopping experience ever!! would totally recommend them.\\n            ]</td>\n",
       "      <td>5 stars: Excellent</td>\n",
       "      <td>My first experience with Zaful...</td>\n",
       "    </tr>\n",
       "    <tr>\n",
       "      <th>3046</th>\n",
       "      <td>[\\n                I love zaful so much great quality for great prices. I buy from them all the time. I love all their swimsuits!!\\n            ]</td>\n",
       "      <td>5 stars: Excellent</td>\n",
       "      <td>I love zaful!!!</td>\n",
       "    </tr>\n",
       "  </tbody>\n",
       "</table>\n",
       "</div>"
      ],
      "text/plain": [
       "                                                                                                                                                                                                                                                                                                                                                                                                                                                                                                                                                                                                                                                                                                                                                                                                                                                                                                                                                                                                                                                                                       review  \\\n",
       "3042  [\\n                Overall, the quality has improved from the past. Additionally the Customer Service is great and they will respond fast. Great for cute, trendy clothes! They have really cute bikinis, dresses, sunglasses and tops. Additionally, the prices are great for someone on a budget. The shipping can be a bit slow at times (depending on how much you order), but everything else is great!\\n            ]                                                                                                                                                                                                                                                                                                                                                                                                                                                                                                                                                                                                                                                               \n",
       "3043  [\\n                As an update. I purchased numerous bathing suits at in middle of January. 15 email to Zaful with order number and item number for return label. No return label ever sent 3 weeks into February. The bathing suit was not attractive. They reply over and over that I should have looked at sizing. The bathing suit fit it was just unholy thin and cheap looking. They do not send return label just endless reply statements w no return label.  Lost my business forever\\n            ]                                                                                                                                                                                                                                                                                                                                                                                                                                                                                                                                                                            \n",
       "3044  [\\n                My son wanted a sweatshirt from ZAFUL.  I ordered the sweatshirt on December 31st. It showed it was in stock and available. I also decided to order a different sweatshirt for myself.  I received my sweatshirt in about two weeks. I normally wear size S but ordered a large because i wanted it roomy to layer. Well...the L was way too small and now it has a rip in it. , As of Feb 16th I was still waiting for my son’s sweatshirt. It was on backorder at the time I got mine.  I did the chat in the beginning of feb and they said I couldn’t get my money back, only an exchange or points?  They also implied that I ordered it when it said they were out of stock....ummm? No. Why would I do that? Anyway, They said it should be delivered around the 14th if I wanted to wait. I waited then contacted again and again they said I couldn’t get a refund. I finally messaged them a couple of days ago on FB and told them to refund my money and they finally did it.  What a mess. I don’t want to go through that hassle again.\\n            ]   \n",
       "3045  [\\n                The first time I came across a Zaful page I immediately didn't trust the sight until I started seeing my friends order from them. I live in South Africa so I was skeptical at first... until I ordered bikinis taking a chance. I placed an order on a Tuesday and received it the following monday! i was so impressed. The bikini qualities were soooo good and I wore the one I bought this past weekend and it looked great! Best shopping experience ever!! would totally recommend them.\\n            ]                                                                                                                                                                                                                                                                                                                                                                                                                                                                                                                                                         \n",
       "3046  [\\n                I love zaful so much great quality for great prices. I buy from them all the time. I love all their swimsuits!!\\n            ]                                                                                                                                                                                                                                                                                                                                                                                                                                                                                                                                                                                                                                                                                                                                                                                                                                                                                                                                         \n",
       "\n",
       "                    star                                  title  \n",
       "3042  5 stars: Excellent  Great                                  \n",
       "3043  1 star: Bad         As an update                           \n",
       "3044  1 star: Bad         My son wanted a sweatshirt from ZAFUL  \n",
       "3045  5 stars: Excellent  My first experience with Zaful...      \n",
       "3046  5 stars: Excellent  I love zaful!!!                        "
      ]
     },
     "execution_count": 24,
     "metadata": {},
     "output_type": "execute_result"
    }
   ],
   "source": [
    "#read scraped raw data \n",
    "data = pd.read_json('clothingreviewdata.json')\n",
    "data[3042:3047]"
   ]
  },
  {
   "cell_type": "code",
   "execution_count": 25,
   "metadata": {},
   "outputs": [],
   "source": [
    "#clean \"star\" column of dataframe and split string at each word \n",
    "data['star'] = (data['star']).astype(str)\n",
    "data['star'] = data['star'].replace('\\s+', ' ')\n",
    "data['star'] = data['star'].str.split(' ')\n",
    "\n",
    "#create empty \"unsatisfied\" data column \n",
    "data['unsatisfied'] = ''\n",
    "\n",
    "#recode data to populated \"unsatisfied\" column based on number of stars reviewers gave\n",
    "for i in range(len(data)):\n",
    "    if data['star'][i][0] == '5':\n",
    "        data['unsatisfied'][i] = 0\n",
    "    elif data['star'][i][0] == '1' or  data['star'][i][0] == '2':\n",
    "        data['unsatisfied'][i] = 1\n",
    "    else:\n",
    "        data['unsatisfied'][i] = np.NaN\n",
    "        \n",
    "#drop data with mid-tier reviews where \"unsatisfied\" column was not encoded \n",
    "data = data.dropna(subset = ['unsatisfied'])\n",
    "data['unsatisfied'] = data['unsatisfied'].astype(int)"
   ]
  },
  {
   "cell_type": "code",
   "execution_count": 26,
   "metadata": {},
   "outputs": [],
   "source": [
    "#clean text from \"review\" column of dataframe keeping appropriate punctuation and capitalizations\n",
    "data['review'] = (data['review']).astype(str)\n",
    "data['review'] = (data['review']).str.replace('\\s+', ' ')\n",
    "data['review'] = data['review'].str.strip(\"\"\"['\"\"\")\n",
    "data['review'] = data['review'].str.strip(\"\"\"']'\"\"\")\n",
    "data['review'] = data['review'].str.replace(\"\"\"', '\"\"\", '')\n",
    "data['review'] = data['review'].str.replace(\"\"\"\", '\"\"\", '')\n",
    "data['review'] = data['review'].str.replace(\"\"\"', \" \"\"\", '')\n",
    "data['review'] = data['review'].str.strip(\"\"\"\\ \"\"\")\n",
    "data['review'] = data['review'].str.strip('n')\n",
    "data['review'] = data['review'].str.strip(\"\"\"\\ \"\"\")"
   ]
  },
  {
   "cell_type": "code",
   "execution_count": 27,
   "metadata": {},
   "outputs": [
    {
     "data": {
      "text/plain": [
       "(6749, 4)"
      ]
     },
     "execution_count": 27,
     "metadata": {},
     "output_type": "execute_result"
    }
   ],
   "source": [
    "#split string in \"review\" column of dataframe by the word\n",
    "data['review'] = data['review'].str.split(' ')\n",
    "#drop data were \"review\" column of dataframe does not have sufficient text\n",
    "data = data[data['review'].map(lambda x: len(x)) > 1] \n",
    "data = data.reset_index(drop=True)\n",
    "data.shape"
   ]
  },
  {
   "cell_type": "code",
   "execution_count": 28,
   "metadata": {},
   "outputs": [
    {
     "name": "stderr",
     "output_type": "stream",
     "text": [
      "/opt/conda/lib/python3.7/site-packages/ipykernel_launcher.py:5: SettingWithCopyWarning: \n",
      "A value is trying to be set on a copy of a slice from a DataFrame\n",
      "\n",
      "See the caveats in the documentation: http://pandas.pydata.org/pandas-docs/stable/indexing.html#indexing-view-versus-copy\n",
      "  \"\"\"\n"
     ]
    }
   ],
   "source": [
    "#correct misspellings in text\n",
    "spell = SpellChecker(distance=1)\n",
    "\n",
    "for i in data.index:\n",
    "    data['review'][i]=[spell.correction(word) for word in data['review'][i]]"
   ]
  },
  {
   "cell_type": "code",
   "execution_count": 31,
   "metadata": {},
   "outputs": [],
   "source": [
    "stopword = stopwords.words('english')\n",
    "\n",
    "data['review'] = data['review'].apply(lambda x: [word for word in x if word not in stopword])"
   ]
  },
  {
   "cell_type": "code",
   "execution_count": 32,
   "metadata": {},
   "outputs": [
    {
     "name": "stdout",
     "output_type": "stream",
     "text": [
      "number of unique words in dataset 19890\n"
     ]
    }
   ],
   "source": [
    "#get total number of unique words in \"review\" column of dataframe\n",
    "unique = set(data['review'].sum())\n",
    "print('number of unique words in dataset ' + str(len(unique)))"
   ]
  },
  {
   "cell_type": "code",
   "execution_count": 33,
   "metadata": {},
   "outputs": [
    {
     "name": "stdout",
     "output_type": "stream",
     "text": [
      "maximum number of words in a single review: 604\n",
      "average number of words in a single review: 48.25366720995703\n",
      "median number of words in a single review: 41.0\n",
      "most common number of words in a single review: 43.0\n"
     ]
    }
   ],
   "source": [
    "#get summary statitistics about the number of words in each review \n",
    "data['number_of_words'] = data['review'].apply(lambda x: len(x))\n",
    "print('maximum number of words in a single review: ' + str(data['number_of_words'].max()))\n",
    "print('average number of words in a single review: ' + str(data['number_of_words'].mean()))\n",
    "print('median number of words in a single review: ' + str(data['number_of_words'].median()))\n",
    "print('most common number of words in a single review: ' + str(float(data['number_of_words'].mode())))"
   ]
  },
  {
   "cell_type": "code",
   "execution_count": 34,
   "metadata": {},
   "outputs": [
    {
     "name": "stderr",
     "output_type": "stream",
     "text": [
      "/opt/conda/lib/python3.7/site-packages/ipykernel_launcher.py:3: SettingWithCopyWarning: \n",
      "A value is trying to be set on a copy of a slice from a DataFrame\n",
      "\n",
      "See the caveats in the documentation: http://pandas.pydata.org/pandas-docs/stable/indexing.html#indexing-view-versus-copy\n",
      "  This is separate from the ipykernel package so we can avoid doing imports until\n"
     ]
    }
   ],
   "source": [
    "#rejoin data\n",
    "for i in range(len(data)):\n",
    "    data['review'][i] =' '.join([str(elem) for elem in data['review'][i]])"
   ]
  },
  {
   "cell_type": "code",
   "execution_count": 35,
   "metadata": {},
   "outputs": [
    {
     "data": {
      "text/html": [
       "<div>\n",
       "<style scoped>\n",
       "    .dataframe tbody tr th:only-of-type {\n",
       "        vertical-align: middle;\n",
       "    }\n",
       "\n",
       "    .dataframe tbody tr th {\n",
       "        vertical-align: top;\n",
       "    }\n",
       "\n",
       "    .dataframe thead th {\n",
       "        text-align: right;\n",
       "    }\n",
       "</style>\n",
       "<table border=\"1\" class=\"dataframe\">\n",
       "  <thead>\n",
       "    <tr style=\"text-align: right;\">\n",
       "      <th></th>\n",
       "      <th>review</th>\n",
       "      <th>star</th>\n",
       "      <th>title</th>\n",
       "      <th>unsatisfied</th>\n",
       "      <th>number_of_words</th>\n",
       "    </tr>\n",
       "  </thead>\n",
       "  <tbody>\n",
       "    <tr>\n",
       "      <th>3042</th>\n",
       "      <td>I ordered two bathing suits Zaful fantastic prices It may take bit bathing suit ship arrived delivered looked exactly pictured If want trendy bathing suits cheap best website it.</td>\n",
       "      <td>[5, stars:, Excellent]</td>\n",
       "      <td>amazing</td>\n",
       "      <td>0</td>\n",
       "      <td>29</td>\n",
       "    </tr>\n",
       "    <tr>\n",
       "      <th>3043</th>\n",
       "      <td>Great customer service highly appreciated ', far I havent disappointed ordered products reviews helpful comes sizing well see product looks like I recommended Zaful friends swimwear I find selection broad please anybody's personal taste.\", can't wait receive next order.\\n \"</td>\n",
       "      <td>[5, stars:, Excellent]</td>\n",
       "      <td>About Zaful</td>\n",
       "      <td>0</td>\n",
       "      <td>40</td>\n",
       "    </tr>\n",
       "    <tr>\n",
       "      <th>3044</th>\n",
       "      <td>helpful webside fast shipping.Great experience</td>\n",
       "      <td>[5, stars:, Excellent]</td>\n",
       "      <td>Zaful</td>\n",
       "      <td>0</td>\n",
       "      <td>5</td>\n",
       "    </tr>\n",
       "    <tr>\n",
       "      <th>3045</th>\n",
       "      <td>Zaful cheap high quality things sell Lots range something everyone fast shipping lovely customer service willing help Have told friends continue</td>\n",
       "      <td>[5, stars:, Excellent]</td>\n",
       "      <td>Zaful is awesome</td>\n",
       "      <td>0</td>\n",
       "      <td>21</td>\n",
       "    </tr>\n",
       "    <tr>\n",
       "      <th>3046</th>\n",
       "      <td>Very happy purchases Cheap prices high quality bathing suits Fast shipping Customer service helpful always responds prompt manner overall great experience Zaful. Will definitely shopping I highly recommend shopping</td>\n",
       "      <td>[5, stars:, Excellent]</td>\n",
       "      <td>Very happy with my purchases</td>\n",
       "      <td>0</td>\n",
       "      <td>29</td>\n",
       "    </tr>\n",
       "  </tbody>\n",
       "</table>\n",
       "</div>"
      ],
      "text/plain": [
       "                                                                                                                                                                                                                                                                                  review  \\\n",
       "3042  I ordered two bathing suits Zaful fantastic prices It may take bit bathing suit ship arrived delivered looked exactly pictured If want trendy bathing suits cheap best website it.                                                                                                   \n",
       "3043  Great customer service highly appreciated ', far I havent disappointed ordered products reviews helpful comes sizing well see product looks like I recommended Zaful friends swimwear I find selection broad please anybody's personal taste.\", can't wait receive next order.\\n \"   \n",
       "3044  helpful webside fast shipping.Great experience                                                                                                                                                                                                                                       \n",
       "3045  Zaful cheap high quality things sell Lots range something everyone fast shipping lovely customer service willing help Have told friends continue                                                                                                                                     \n",
       "3046  Very happy purchases Cheap prices high quality bathing suits Fast shipping Customer service helpful always responds prompt manner overall great experience Zaful. Will definitely shopping I highly recommend shopping                                                               \n",
       "\n",
       "                        star                         title  unsatisfied  \\\n",
       "3042  [5, stars:, Excellent]  amazing                       0             \n",
       "3043  [5, stars:, Excellent]  About Zaful                   0             \n",
       "3044  [5, stars:, Excellent]  Zaful                         0             \n",
       "3045  [5, stars:, Excellent]  Zaful is awesome              0             \n",
       "3046  [5, stars:, Excellent]  Very happy with my purchases  0             \n",
       "\n",
       "      number_of_words  \n",
       "3042  29               \n",
       "3043  40               \n",
       "3044  5                \n",
       "3045  21               \n",
       "3046  29               "
      ]
     },
     "execution_count": 35,
     "metadata": {},
     "output_type": "execute_result"
    }
   ],
   "source": [
    "data[3042:3047]"
   ]
  },
  {
   "cell_type": "code",
   "execution_count": 36,
   "metadata": {},
   "outputs": [],
   "source": [
    "#create new dataframe for Afinn sentiment analysis\n",
    "AfinnData = data\n",
    "AfinnData['Afinn'] = ''\n",
    "AfinnData['AfinnClass'] = ''"
   ]
  },
  {
   "cell_type": "code",
   "execution_count": 37,
   "metadata": {},
   "outputs": [
    {
     "name": "stderr",
     "output_type": "stream",
     "text": [
      "/opt/conda/lib/python3.7/site-packages/ipykernel_launcher.py:12: SettingWithCopyWarning: \n",
      "A value is trying to be set on a copy of a slice from a DataFrame\n",
      "\n",
      "See the caveats in the documentation: http://pandas.pydata.org/pandas-docs/stable/indexing.html#indexing-view-versus-copy\n",
      "  if sys.path[0] == '':\n",
      "/opt/conda/lib/python3.7/site-packages/ipykernel_launcher.py:10: SettingWithCopyWarning: \n",
      "A value is trying to be set on a copy of a slice from a DataFrame\n",
      "\n",
      "See the caveats in the documentation: http://pandas.pydata.org/pandas-docs/stable/indexing.html#indexing-view-versus-copy\n",
      "  # Remove the CWD from sys.path while we load stuff.\n",
      "/opt/conda/lib/python3.7/site-packages/ipykernel_launcher.py:8: SettingWithCopyWarning: \n",
      "A value is trying to be set on a copy of a slice from a DataFrame\n",
      "\n",
      "See the caveats in the documentation: http://pandas.pydata.org/pandas-docs/stable/indexing.html#indexing-view-versus-copy\n",
      "  \n"
     ]
    }
   ],
   "source": [
    "#apply Afinn sentiment score\n",
    "afinn = Afinn()\n",
    "AfinnData['Afinn'] = AfinnData['review'].apply(lambda review: afinn.score(review))\n",
    "\n",
    "#recode so that sentiment score matches with \"unsatisfied\" column of the data frame\n",
    "for i in AfinnData.index:\n",
    "    if AfinnData['Afinn'][i] == 0:\n",
    "        AfinnData['AfinnClass'][i] = np.NaN\n",
    "    elif AfinnData['Afinn'][i] > 0:\n",
    "        AfinnData['AfinnClass'][i] = 0\n",
    "    else:\n",
    "        AfinnData['AfinnClass'][i] = 1"
   ]
  },
  {
   "cell_type": "code",
   "execution_count": 38,
   "metadata": {},
   "outputs": [],
   "source": [
    "#drop observations where Afinn sentiment score was ambiguous and clean data\n",
    "AfinnData = AfinnData.dropna(subset = ['AfinnClass']).reset_index(drop=True)\n",
    "AfinnData['AfinnClass'] = AfinnData['AfinnClass'].astype(int)"
   ]
  },
  {
   "cell_type": "code",
   "execution_count": 39,
   "metadata": {},
   "outputs": [
    {
     "name": "stdout",
     "output_type": "stream",
     "text": [
      "                 precision    recall  f1-score   support\n",
      "\n",
      "  Satisfied (0)     0.9916    0.8390    0.9089      5050\n",
      "Unsatisfied (1)     0.6196    0.9735    0.7572      1360\n",
      "\n",
      "       accuracy                         0.8676      6410\n",
      "      macro avg     0.8056    0.9063    0.8331      6410\n",
      "   weighted avg     0.9126    0.8676    0.8767      6410\n",
      "\n",
      "Afinn Classifier Jaccard Score: 0.6092959042797975\n"
     ]
    },
    {
     "data": {
      "image/png": "[encoded data removed]",
      "text/plain": [
       "<Figure size 432x288 with 2 Axes>"
      ]
     },
     "metadata": {
      "needs_background": "light"
     },
     "output_type": "display_data"
    }
   ],
   "source": [
    "#create confusion matrix and evaluate\n",
    "print (classification_report(AfinnData['AfinnClass'], AfinnData['unsatisfied'], labels=[0, 1], target_names=['Satisfied (0)', \"Unsatisfied (1)\"], digits=4))\n",
    "cm = confusion_matrix(AfinnData['AfinnClass'], AfinnData['unsatisfied'])\n",
    "disp = ConfusionMatrixDisplay(confusion_matrix=cm, display_labels=['Satisfied (0)', \"Unsatisfied (1)\"])\n",
    "disp = disp.plot(include_values=True, cmap='BuPu', xticks_rotation=None,)\n",
    "\n",
    "print('Afinn Classifier Jaccard Score:', (jaccard_score(AfinnData['AfinnClass'], AfinnData['unsatisfied'], pos_label=1, average='binary')))"
   ]
  },
  {
   "cell_type": "code",
   "execution_count": 40,
   "metadata": {},
   "outputs": [],
   "source": [
    "#create new dataframe for VADER sentiment analysis \n",
    "VADERSentData = data\n",
    "VADERSentData['VADERSentNeg'] = ''\n",
    "VADERSentData['VADERSentNeut'] = ''\n",
    "VADERSentData['VADERSentPos'] = '' \n",
    "VADERSentData['VADERSentCom'] = ''\n",
    "VADERSentData['VADERSentClass'] = ''"
   ]
  },
  {
   "cell_type": "code",
   "execution_count": 41,
   "metadata": {},
   "outputs": [
    {
     "name": "stderr",
     "output_type": "stream",
     "text": [
      "/opt/conda/lib/python3.7/site-packages/ipykernel_launcher.py:17: SettingWithCopyWarning: \n",
      "A value is trying to be set on a copy of a slice from a DataFrame\n",
      "\n",
      "See the caveats in the documentation: http://pandas.pydata.org/pandas-docs/stable/indexing.html#indexing-view-versus-copy\n",
      "/opt/conda/lib/python3.7/site-packages/ipykernel_launcher.py:15: SettingWithCopyWarning: \n",
      "A value is trying to be set on a copy of a slice from a DataFrame\n",
      "\n",
      "See the caveats in the documentation: http://pandas.pydata.org/pandas-docs/stable/indexing.html#indexing-view-versus-copy\n",
      "  from ipykernel import kernelapp as app\n",
      "/opt/conda/lib/python3.7/site-packages/ipykernel_launcher.py:13: SettingWithCopyWarning: \n",
      "A value is trying to be set on a copy of a slice from a DataFrame\n",
      "\n",
      "See the caveats in the documentation: http://pandas.pydata.org/pandas-docs/stable/indexing.html#indexing-view-versus-copy\n",
      "  del sys.path[0]\n"
     ]
    }
   ],
   "source": [
    "#apply VADER sentiment score\n",
    "VADER = SentimentIntensityAnalyzer()\n",
    "VADERSentData['Scores'] = VADERSentData['review'].apply(lambda review: VADER.polarity_scores(review))\n",
    "\n",
    "VADERSentData['VADERSentNeg']  = VADERSentData['Scores'].apply(lambda score_dict: score_dict['neg'])\n",
    "VADERSentData['VADERSentNeut']  = VADERSentData['Scores'].apply(lambda score_dict: score_dict['neu'])\n",
    "VADERSentData['VADERSentPos']  = VADERSentData['Scores'].apply(lambda score_dict: score_dict['pos'])\n",
    "VADERSentData['VADERSentCom']  = VADERSentData['Scores'].apply(lambda score_dict: score_dict['compound'])\n",
    "\n",
    "#recode sentiment score to match with \"unsatisifed\" column of dataframe\n",
    "for i in VADERSentData.index:\n",
    "    if VADERSentData['VADERSentCom'][i] == 0:\n",
    "        VADERSentData['VADERSentClass'][i] = np.NaN\n",
    "    elif VADERSentData['VADERSentCom'][i] > 0:\n",
    "        VADERSentData['VADERSentClass'][i] = 0\n",
    "    else:\n",
    "        VADERSentData['VADERSentClass'][i] = 1"
   ]
  },
  {
   "cell_type": "code",
   "execution_count": 42,
   "metadata": {},
   "outputs": [],
   "source": [
    "#drop observations where VADER sentiment score was ambiguous and clean data\n",
    "VADERSentData = VADERSentData.dropna(subset = ['VADERSentClass']).reset_index(drop=True)\n",
    "VADERSentData = VADERSentData.drop(columns=['Scores'])\n",
    "VADERSentData['VADERSentClass'] = VADERSentData['VADERSentClass'].astype(int)"
   ]
  },
  {
   "cell_type": "code",
   "execution_count": 43,
   "metadata": {},
   "outputs": [
    {
     "name": "stdout",
     "output_type": "stream",
     "text": [
      "                 precision    recall  f1-score   support\n",
      "\n",
      "  Satisfied (0)     0.9905    0.8036    0.8873      5300\n",
      "Unsatisfied (1)     0.5494    0.9687    0.7011      1310\n",
      "\n",
      "       accuracy                         0.8363      6610\n",
      "      macro avg     0.7699    0.8861    0.7942      6610\n",
      "   weighted avg     0.9030    0.8363    0.8504      6610\n",
      "\n",
      "VADER Classifier Jaccard Score: 0.5397703105061676\n"
     ]
    },
    {
     "data": {
      "image/png": "[encoded data removed]",
      "text/plain": [
       "<Figure size 432x288 with 2 Axes>"
      ]
     },
     "metadata": {
      "needs_background": "light"
     },
     "output_type": "display_data"
    }
   ],
   "source": [
    "#create confusion matrix and evaluate\n",
    "print (classification_report(VADERSentData['VADERSentClass'], VADERSentData['unsatisfied'], labels=[0, 1], target_names=['Satisfied (0)', \"Unsatisfied (1)\"], digits=4))\n",
    "cm = confusion_matrix(VADERSentData['VADERSentClass'], VADERSentData['unsatisfied'])\n",
    "disp = ConfusionMatrixDisplay(confusion_matrix=cm, display_labels=['Satisfied (0)', \"Unsatisfied (1)\"])\n",
    "disp = disp.plot(include_values=True, cmap='BuPu', xticks_rotation=None,)\n",
    "\n",
    "print('VADER Classifier Jaccard Score:', (jaccard_score(VADERSentData['VADERSentClass'], VADERSentData['unsatisfied'], pos_label=1, average='binary')))"
   ]
  },
  {
   "cell_type": "code",
   "execution_count": 44,
   "metadata": {},
   "outputs": [
    {
     "data": {
      "text/plain": [
       "array([[  69, 3748,   68, ...,  909,   72,  930],\n",
       "       [   2,    6,  720, ...,    0,    0,    0],\n",
       "       [   8,   27,  227, ...,    0,    0,    0],\n",
       "       ...,\n",
       "       [   4,    8,   18, ...,    0,    0,    0],\n",
       "       [   4,  406,   40, ...,    0,    0,    0],\n",
       "       [   2,   37,   24, ...,    0,    0,    0]], dtype=int32)"
      ]
     },
     "execution_count": 44,
     "metadata": {},
     "output_type": "execute_result"
    }
   ],
   "source": [
    "#tokenixe the top 5000 most common works and pad each review to 100 words\n",
    "tokenizer = Tokenizer(num_words=5000, oov_token='<UNK>')\n",
    "tokenizer.fit_on_texts((data['review']))\n",
    "train_sequences = tokenizer.texts_to_sequences(data['review'])\n",
    "X_tok = pad_sequences(train_sequences, padding='post', truncating='post', maxlen=100)\n",
    "X_tok"
   ]
  },
  {
   "cell_type": "code",
   "execution_count": 45,
   "metadata": {},
   "outputs": [
    {
     "name": "stdout",
     "output_type": "stream",
     "text": [
      "Train set: (5061, 100) (5061,)\n",
      "Test set: (1688, 100) (1688,)\n"
     ]
    }
   ],
   "source": [
    "#create train-test split in dataset\n",
    "X_train, X_test, y_train, y_test = train_test_split(X_tok, data['unsatisfied'], test_size=0.25, random_state=0)\n",
    "\n",
    "print ('Train set:', X_train.shape,  y_train.shape)\n",
    "print ('Test set:', X_test.shape,  y_test.shape)"
   ]
  },
  {
   "cell_type": "code",
   "execution_count": 46,
   "metadata": {},
   "outputs": [
    {
     "name": "stdout",
     "output_type": "stream",
     "text": [
      "Model: \"sequential\"\n",
      "_________________________________________________________________\n",
      "Layer (type)                 Output Shape              Param #   \n",
      "=================================================================\n",
      "embedding (Embedding)        (None, 100, 50)           250000    \n",
      "_________________________________________________________________\n",
      "lstm (LSTM)                  (None, 50)                20200     \n",
      "_________________________________________________________________\n",
      "dense (Dense)                (None, 1)                 51        \n",
      "_________________________________________________________________\n",
      "dropout (Dropout)            (None, 1)                 0         \n",
      "_________________________________________________________________\n",
      "flatten (Flatten)            (None, 1)                 0         \n",
      "=================================================================\n",
      "Total params: 270,251\n",
      "Trainable params: 270,251\n",
      "Non-trainable params: 0\n",
      "_________________________________________________________________\n"
     ]
    }
   ],
   "source": [
    "#create Long Short Term Memory model with custom word embeddings from dataset\n",
    "keras_embedding = Sequential()\n",
    "keras_embedding.add(Embedding(5000, 50, input_length=100))\n",
    "keras_embedding.add(LSTM(units=50))\n",
    "keras_embedding.add(Dense(1, activation='sigmoid'))\n",
    "keras_embedding.add(Dropout(0.2))\n",
    "keras_embedding.add(keras.layers.Flatten())\n",
    "keras_embedding.summary()"
   ]
  },
  {
   "cell_type": "code",
   "execution_count": 61,
   "metadata": {},
   "outputs": [
    {
     "name": "stdout",
     "output_type": "stream",
     "text": [
      "Epoch 1/25\n",
      "159/159 - 8s - loss: 1.1397 - acc: 0.9261\n",
      "Epoch 2/25\n",
      "159/159 - 6s - loss: 1.0875 - acc: 0.9289\n",
      "Epoch 3/25\n",
      "159/159 - 6s - loss: 1.1551 - acc: 0.9251\n",
      "Epoch 4/25\n",
      "159/159 - 6s - loss: 1.1703 - acc: 0.9241\n",
      "Epoch 5/25\n",
      "159/159 - 6s - loss: 1.1033 - acc: 0.9285\n",
      "Epoch 6/25\n",
      "159/159 - 6s - loss: 1.1246 - acc: 0.9271\n",
      "Epoch 7/25\n",
      "159/159 - 6s - loss: 1.0697 - acc: 0.9306\n",
      "Epoch 8/25\n",
      "159/159 - 6s - loss: 1.1794 - acc: 0.9235\n",
      "Epoch 9/25\n",
      "159/159 - 6s - loss: 1.0758 - acc: 0.9303\n",
      "Epoch 10/25\n",
      "159/159 - 6s - loss: 1.1489 - acc: 0.9255\n",
      "Epoch 11/25\n",
      "159/159 - 6s - loss: 1.1520 - acc: 0.9253\n",
      "Epoch 12/25\n",
      "159/159 - 6s - loss: 1.1154 - acc: 0.9277\n",
      "Epoch 13/25\n",
      "159/159 - 6s - loss: 1.0027 - acc: 0.9350\n",
      "Epoch 14/25\n",
      "159/159 - 6s - loss: 1.1611 - acc: 0.9247\n",
      "Epoch 15/25\n",
      "159/159 - 6s - loss: 1.1276 - acc: 0.9269\n",
      "Epoch 16/25\n",
      "159/159 - 6s - loss: 1.1794 - acc: 0.9235\n",
      "Epoch 17/25\n",
      "159/159 - 6s - loss: 1.1276 - acc: 0.9269\n",
      "Epoch 18/25\n",
      "159/159 - 6s - loss: 1.0422 - acc: 0.9324\n",
      "Epoch 19/25\n",
      "159/159 - 6s - loss: 1.0362 - acc: 0.9328\n",
      "Epoch 20/25\n",
      "159/159 - 6s - loss: 1.1855 - acc: 0.9231\n",
      "Epoch 21/25\n",
      "159/159 - 6s - loss: 1.0392 - acc: 0.9326\n",
      "Epoch 22/25\n",
      "159/159 - 6s - loss: 1.1520 - acc: 0.9253\n",
      "Epoch 23/25\n",
      "159/159 - 6s - loss: 1.1063 - acc: 0.9283\n",
      "Epoch 24/25\n",
      "159/159 - 6s - loss: 1.1459 - acc: 0.9257\n",
      "Epoch 25/25\n",
      "159/159 - 6s - loss: 1.2038 - acc: 0.9220\n"
     ]
    },
    {
     "data": {
      "text/plain": [
       "<tensorflow.python.keras.callbacks.History at 0x7f269eb26fd0>"
      ]
     },
     "execution_count": 61,
     "metadata": {},
     "output_type": "execute_result"
    }
   ],
   "source": [
    "#compile and fit model on train data\n",
    "keras_embedding.compile(optimizer='adam', loss='binary_crossentropy', metrics=['acc'])\n",
    "keras_embedding.fit(X_train, y_train, epochs=25, verbose=2)"
   ]
  },
  {
   "cell_type": "code",
   "execution_count": 62,
   "metadata": {},
   "outputs": [
    {
     "name": "stdout",
     "output_type": "stream",
     "text": [
      "159/159 - 2s - loss: 0.0049 - acc: 0.9994\n",
      "Keras Deep Learning Model Accuracy 0.9994072318077087\n",
      "Keras Deep Learning Model Loss 0.0048668235540390015\n"
     ]
    }
   ],
   "source": [
    "#evaluate model loss and accuracy \n",
    "loss, accuracy = keras_embedding.evaluate(X_train, y_train, verbose=2)\n",
    "print('Keras Deep Learning Model Accuracy', accuracy)\n",
    "print('Keras Deep Learning Model Loss', loss)"
   ]
  },
  {
   "cell_type": "code",
   "execution_count": 63,
   "metadata": {},
   "outputs": [],
   "source": [
    "#use model to predict test data\n",
    "keras_embedding_predications = keras_embedding.predict_classes(X_test)\n",
    "keras_embedding_proba = keras_embedding.predict(X_test)"
   ]
  },
  {
   "cell_type": "code",
   "execution_count": 64,
   "metadata": {},
   "outputs": [
    {
     "name": "stdout",
     "output_type": "stream",
     "text": [
      "                 precision    recall  f1-score   support\n",
      "\n",
      "  Satisfied (0)     0.9778    0.9832    0.9805      1073\n",
      "Unsatisfied (1)     0.9704    0.9610    0.9657       615\n",
      "\n",
      "       accuracy                         0.9751      1688\n",
      "      macro avg     0.9741    0.9721    0.9731      1688\n",
      "   weighted avg     0.9751    0.9751    0.9751      1688\n",
      "\n"
     ]
    },
    {
     "data": {
      "image/png": "[encoded data removed]",
      "text/plain": [
       "<Figure size 432x288 with 2 Axes>"
      ]
     },
     "metadata": {
      "needs_background": "light"
     },
     "output_type": "display_data"
    },
    {
     "data": {
      "image/png": "[encoded data removed]",
      "text/plain": [
       "<Figure size 432x288 with 1 Axes>"
      ]
     },
     "metadata": {
      "needs_background": "light"
     },
     "output_type": "display_data"
    }
   ],
   "source": [
    "#create classification report\n",
    "print (classification_report(keras_embedding_predications, y_test, labels=[0, 1], target_names=['Satisfied (0)', \"Unsatisfied (1)\"], digits=4))\n",
    "#create confusion matrix\n",
    "cm = confusion_matrix(keras_embedding_predications, y_test)\n",
    "disp = ConfusionMatrixDisplay(confusion_matrix=cm, display_labels=['Satisfied (0)', \"Unsatisfied (1)\"])\n",
    "disp = disp.plot(include_values=True, cmap='BuPu', xticks_rotation=None,)\n",
    "disp.ax_.set_title('Confusion Matrix for Keras LSTM')\n",
    "\n",
    "#create ROC curve\n",
    "fpr, tpr, _= roc_curve(y_test, keras_embedding_proba)\n",
    "ROC = plt.figure()\n",
    "ROC = plt.plot(fpr, tpr, linestyle='-', color = 'purple', label='LTSM Model')\n",
    "ROC = plt.title('Keras LSTM ROC Curve')\n",
    "ROC = plt.xlabel('False Positive Rate (1-Specificity)')\n",
    "ROC = plt.ylabel('True Positive Rate (Sensitivity)')"
   ]
  },
  {
   "cell_type": "code",
   "execution_count": null,
   "metadata": {},
   "outputs": [],
   "source": []
  }
 ],
 "metadata": {
  "kernelspec": {
   "display_name": "Python 3",
   "language": "python",
   "name": "python3"
  },
  "language_info": {
   "codemirror_mode": {
    "name": "ipython",
    "version": 3
   },
   "file_extension": ".py",
   "mimetype": "text/x-python",
   "name": "python",
   "nbconvert_exporter": "python",
   "pygments_lexer": "ipython3",
   "version": "3.7.1"
  }
 },
 "nbformat": 4,
 "nbformat_minor": 4
}
